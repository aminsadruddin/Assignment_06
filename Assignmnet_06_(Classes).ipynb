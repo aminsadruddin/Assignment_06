{
  "cells": [
    {
      "cell_type": "markdown",
      "metadata": {
        "id": "XLFr4w_7OFN7"
      },
      "source": [
        "1. Write a Python program to create a class representing a Circle. Include methods to calculate its area and perimeter."
      ]
    },
    {
      "cell_type": "code",
      "execution_count": 1,
      "metadata": {
        "id": "06xGCuDSdV54",
        "colab": {
          "base_uri": "https://localhost:8080/"
        },
        "outputId": "4ce6b7c7-bc60-408b-c457-2dd6c7ca74e4"
      },
      "outputs": [
        {
          "output_type": "stream",
          "name": "stdout",
          "text": [
            "78.5\n",
            "31.400000000000002\n"
          ]
        }
      ],
      "source": [
        "# Add your code here\n",
        "class Circle:\n",
        "    def __init__(self, radius):\n",
        "        self.radius = radius\n",
        "\n",
        "    def area(self):\n",
        "        return 3.14 * (self.radius ** 2)\n",
        "\n",
        "    def perimeter(self):\n",
        "        return 2 * 3.14 * self.radius\n",
        "\n",
        "circle = Circle(5)\n",
        "print(circle.area())\n",
        "print(circle.perimeter())"
      ]
    },
    {
      "cell_type": "markdown",
      "metadata": {
        "id": "CBPk4mH4OTCO"
      },
      "source": [
        "2. Write a Python program to create a person class. Include attributes like name, country and date of birth. Implement a method to determine the person's age.\n"
      ]
    },
    {
      "cell_type": "code",
      "execution_count": 4,
      "metadata": {
        "id": "BY3lvMwUdV56",
        "colab": {
          "base_uri": "https://localhost:8080/"
        },
        "outputId": "fa2fdcf6-2782-4a47-b08c-476a0e312423"
      },
      "outputs": [
        {
          "output_type": "stream",
          "name": "stdout",
          "text": [
            "34\n"
          ]
        }
      ],
      "source": [
        "# Add your code here\n",
        "class Person:\n",
        "    def __init__(self, name, country, birth_year):\n",
        "        self.name = name\n",
        "        self.country = country\n",
        "        self.birth_year = birth_year\n",
        "\n",
        "    def age(self):\n",
        "        return 2024 - self.birth_year\n",
        "\n",
        "person = Person(\"John\", \"USA\", 1990)\n",
        "print(person.age())\n"
      ]
    },
    {
      "cell_type": "markdown",
      "metadata": {
        "id": "JGiBnrR0dV56"
      },
      "source": [
        "3. Write a Python program to create a calculator class. Include methods for basic arithmetic operations."
      ]
    },
    {
      "cell_type": "code",
      "execution_count": 6,
      "metadata": {
        "id": "0lCa4vgldV57",
        "colab": {
          "base_uri": "https://localhost:8080/"
        },
        "outputId": "4f4a6428-dcb4-45b5-9f53-5836273d51f0"
      },
      "outputs": [
        {
          "output_type": "stream",
          "name": "stdout",
          "text": [
            "15\n",
            "5\n",
            "50\n",
            "2.0\n"
          ]
        }
      ],
      "source": [
        "# Add your code here\n",
        "class Calculator:\n",
        "  def __init__(self, x, y):\n",
        "    self.x = x\n",
        "    self.y = y\n",
        "\n",
        "  def add(self):\n",
        "    return self.x + self.y\n",
        "\n",
        "  def subtract(self):\n",
        "    return self.x - self.y\n",
        "\n",
        "  def multiply(self):\n",
        "    return self.x * self.y\n",
        "\n",
        "  def divide(self):\n",
        "    return self.x / self.y\n",
        "\n",
        "calculator = Calculator(10, 5)\n",
        "print(calculator.add())\n",
        "print(calculator.subtract())\n",
        "print(calculator.multiply())\n",
        "print(calculator.divide())\n"
      ]
    },
    {
      "cell_type": "code",
      "source": [],
      "metadata": {
        "id": "OAtpGbA622lD"
      },
      "execution_count": null,
      "outputs": []
    }
  ],
  "metadata": {
    "colab": {
      "provenance": [],
      "toc_visible": true
    },
    "kernelspec": {
      "display_name": "Python 3",
      "name": "python3"
    },
    "language_info": {
      "codemirror_mode": {
        "name": "ipython",
        "version": 3
      },
      "file_extension": ".py",
      "mimetype": "text/x-python",
      "name": "python",
      "nbconvert_exporter": "python",
      "pygments_lexer": "ipython3",
      "version": "3.12.4"
    }
  },
  "nbformat": 4,
  "nbformat_minor": 0
}